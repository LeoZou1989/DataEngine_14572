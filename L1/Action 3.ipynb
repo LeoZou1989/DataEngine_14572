{
 "cells": [
  {
   "cell_type": "code",
   "execution_count": 1,
   "metadata": {},
   "outputs": [],
   "source": [
    "import pandas as pd"
   ]
  },
  {
   "cell_type": "markdown",
   "metadata": {
    "tags": []
   },
   "source": [
    "Step 1: Data Loading"
   ]
  },
  {
   "cell_type": "code",
   "execution_count": 75,
   "metadata": {},
   "outputs": [
    {
     "output_type": "execute_result",
     "data": {
      "text/plain": "       id  brand     car_model                  type                    desc  \\\n0  482028  一汽马自达           阿特兹      2020款 2.5L 蓝天运动版     一汽马自达阿特兹B柱异响 车内异响严重   \n1  482027   江淮汽车       江淮iEV6E           2017款 iEV6E      江淮iEV6E动力电池故障 无法充电   \n2  482026  一汽马自达           阿特兹      2020款 2.5L 蓝天运动版       一汽马自达阿特兹车身异响 天窗异响   \n3  482022  一汽-大众            迈腾  2009款 1.8TSI DSG 舒适型      一汽大众迈腾起步和刹车时车辆抖动\\t   \n4  482019   众泰汽车  众泰T600 Coupe     2017款 1.5T 自动 尊享型  众泰T600 Coupe售后维修配件一直缺货   \n\n        problem    datetime status  \n0      H93,H15,  2020-06-08   信息审核  \n1         H343,  2020-06-08   信息审核  \n2  H93,H15,H89,  2020-06-08   信息审核  \n3     B84,E111,  2020-06-08   信息审核  \n4         N318,  2020-06-08   厂家受理  ",
      "text/html": "<div>\n<style scoped>\n    .dataframe tbody tr th:only-of-type {\n        vertical-align: middle;\n    }\n\n    .dataframe tbody tr th {\n        vertical-align: top;\n    }\n\n    .dataframe thead th {\n        text-align: right;\n    }\n</style>\n<table border=\"1\" class=\"dataframe\">\n  <thead>\n    <tr style=\"text-align: right;\">\n      <th></th>\n      <th>id</th>\n      <th>brand</th>\n      <th>car_model</th>\n      <th>type</th>\n      <th>desc</th>\n      <th>problem</th>\n      <th>datetime</th>\n      <th>status</th>\n    </tr>\n  </thead>\n  <tbody>\n    <tr>\n      <th>0</th>\n      <td>482028</td>\n      <td>一汽马自达</td>\n      <td>阿特兹</td>\n      <td>2020款 2.5L 蓝天运动版</td>\n      <td>一汽马自达阿特兹B柱异响 车内异响严重</td>\n      <td>H93,H15,</td>\n      <td>2020-06-08</td>\n      <td>信息审核</td>\n    </tr>\n    <tr>\n      <th>1</th>\n      <td>482027</td>\n      <td>江淮汽车</td>\n      <td>江淮iEV6E</td>\n      <td>2017款 iEV6E</td>\n      <td>江淮iEV6E动力电池故障 无法充电</td>\n      <td>H343,</td>\n      <td>2020-06-08</td>\n      <td>信息审核</td>\n    </tr>\n    <tr>\n      <th>2</th>\n      <td>482026</td>\n      <td>一汽马自达</td>\n      <td>阿特兹</td>\n      <td>2020款 2.5L 蓝天运动版</td>\n      <td>一汽马自达阿特兹车身异响 天窗异响</td>\n      <td>H93,H15,H89,</td>\n      <td>2020-06-08</td>\n      <td>信息审核</td>\n    </tr>\n    <tr>\n      <th>3</th>\n      <td>482022</td>\n      <td>一汽-大众</td>\n      <td>迈腾</td>\n      <td>2009款 1.8TSI DSG 舒适型</td>\n      <td>一汽大众迈腾起步和刹车时车辆抖动\\t</td>\n      <td>B84,E111,</td>\n      <td>2020-06-08</td>\n      <td>信息审核</td>\n    </tr>\n    <tr>\n      <th>4</th>\n      <td>482019</td>\n      <td>众泰汽车</td>\n      <td>众泰T600 Coupe</td>\n      <td>2017款 1.5T 自动 尊享型</td>\n      <td>众泰T600 Coupe售后维修配件一直缺货</td>\n      <td>N318,</td>\n      <td>2020-06-08</td>\n      <td>厂家受理</td>\n    </tr>\n  </tbody>\n</table>\n</div>"
     },
     "metadata": {},
     "execution_count": 75
    }
   ],
   "source": [
    "data = pd.read_csv('car_complain.csv')\n",
    "data.head(5)"
   ]
  },
  {
   "cell_type": "markdown",
   "metadata": {
    "tags": []
   },
   "source": [
    "Step 2: Data Preprocessing"
   ]
  },
  {
   "cell_type": "code",
   "execution_count": 76,
   "metadata": {},
   "outputs": [
    {
     "output_type": "execute_result",
     "data": {
      "text/plain": "       id  brand     car_model                  type                    desc  \\\n0  482028  一汽马自达           阿特兹      2020款 2.5L 蓝天运动版     一汽马自达阿特兹B柱异响 车内异响严重   \n1  482027   江淮汽车       江淮iEV6E           2017款 iEV6E      江淮iEV6E动力电池故障 无法充电   \n2  482026  一汽马自达           阿特兹      2020款 2.5L 蓝天运动版       一汽马自达阿特兹车身异响 天窗异响   \n3  482022  一汽-大众            迈腾  2009款 1.8TSI DSG 舒适型      一汽大众迈腾起步和刹车时车辆抖动\\t   \n4  482019   众泰汽车  众泰T600 Coupe     2017款 1.5T 自动 尊享型  众泰T600 Coupe售后维修配件一直缺货   \n\n     datetime status  A11  A114  A12  ...  N318  N319  O296  O326  O348  O354  \\\n0  2020-06-08   信息审核    0     0    0  ...     0     0     0     0     0     0   \n1  2020-06-08   信息审核    0     0    0  ...     0     0     0     0     0     0   \n2  2020-06-08   信息审核    0     0    0  ...     0     0     0     0     0     0   \n3  2020-06-08   信息审核    0     0    0  ...     0     0     0     0     0     0   \n4  2020-06-08   厂家受理    0     0    0  ...     1     0     0     0     0     0   \n\n   Q322  Q323  Q349  Q350  \n0     0     0     0     0  \n1     0     0     0     0  \n2     0     0     0     0  \n3     0     0     0     0  \n4     0     0     0     0  \n\n[5 rows x 181 columns]",
      "text/html": "<div>\n<style scoped>\n    .dataframe tbody tr th:only-of-type {\n        vertical-align: middle;\n    }\n\n    .dataframe tbody tr th {\n        vertical-align: top;\n    }\n\n    .dataframe thead th {\n        text-align: right;\n    }\n</style>\n<table border=\"1\" class=\"dataframe\">\n  <thead>\n    <tr style=\"text-align: right;\">\n      <th></th>\n      <th>id</th>\n      <th>brand</th>\n      <th>car_model</th>\n      <th>type</th>\n      <th>desc</th>\n      <th>datetime</th>\n      <th>status</th>\n      <th>A11</th>\n      <th>A114</th>\n      <th>A12</th>\n      <th>...</th>\n      <th>N318</th>\n      <th>N319</th>\n      <th>O296</th>\n      <th>O326</th>\n      <th>O348</th>\n      <th>O354</th>\n      <th>Q322</th>\n      <th>Q323</th>\n      <th>Q349</th>\n      <th>Q350</th>\n    </tr>\n  </thead>\n  <tbody>\n    <tr>\n      <th>0</th>\n      <td>482028</td>\n      <td>一汽马自达</td>\n      <td>阿特兹</td>\n      <td>2020款 2.5L 蓝天运动版</td>\n      <td>一汽马自达阿特兹B柱异响 车内异响严重</td>\n      <td>2020-06-08</td>\n      <td>信息审核</td>\n      <td>0</td>\n      <td>0</td>\n      <td>0</td>\n      <td>...</td>\n      <td>0</td>\n      <td>0</td>\n      <td>0</td>\n      <td>0</td>\n      <td>0</td>\n      <td>0</td>\n      <td>0</td>\n      <td>0</td>\n      <td>0</td>\n      <td>0</td>\n    </tr>\n    <tr>\n      <th>1</th>\n      <td>482027</td>\n      <td>江淮汽车</td>\n      <td>江淮iEV6E</td>\n      <td>2017款 iEV6E</td>\n      <td>江淮iEV6E动力电池故障 无法充电</td>\n      <td>2020-06-08</td>\n      <td>信息审核</td>\n      <td>0</td>\n      <td>0</td>\n      <td>0</td>\n      <td>...</td>\n      <td>0</td>\n      <td>0</td>\n      <td>0</td>\n      <td>0</td>\n      <td>0</td>\n      <td>0</td>\n      <td>0</td>\n      <td>0</td>\n      <td>0</td>\n      <td>0</td>\n    </tr>\n    <tr>\n      <th>2</th>\n      <td>482026</td>\n      <td>一汽马自达</td>\n      <td>阿特兹</td>\n      <td>2020款 2.5L 蓝天运动版</td>\n      <td>一汽马自达阿特兹车身异响 天窗异响</td>\n      <td>2020-06-08</td>\n      <td>信息审核</td>\n      <td>0</td>\n      <td>0</td>\n      <td>0</td>\n      <td>...</td>\n      <td>0</td>\n      <td>0</td>\n      <td>0</td>\n      <td>0</td>\n      <td>0</td>\n      <td>0</td>\n      <td>0</td>\n      <td>0</td>\n      <td>0</td>\n      <td>0</td>\n    </tr>\n    <tr>\n      <th>3</th>\n      <td>482022</td>\n      <td>一汽-大众</td>\n      <td>迈腾</td>\n      <td>2009款 1.8TSI DSG 舒适型</td>\n      <td>一汽大众迈腾起步和刹车时车辆抖动\\t</td>\n      <td>2020-06-08</td>\n      <td>信息审核</td>\n      <td>0</td>\n      <td>0</td>\n      <td>0</td>\n      <td>...</td>\n      <td>0</td>\n      <td>0</td>\n      <td>0</td>\n      <td>0</td>\n      <td>0</td>\n      <td>0</td>\n      <td>0</td>\n      <td>0</td>\n      <td>0</td>\n      <td>0</td>\n    </tr>\n    <tr>\n      <th>4</th>\n      <td>482019</td>\n      <td>众泰汽车</td>\n      <td>众泰T600 Coupe</td>\n      <td>2017款 1.5T 自动 尊享型</td>\n      <td>众泰T600 Coupe售后维修配件一直缺货</td>\n      <td>2020-06-08</td>\n      <td>厂家受理</td>\n      <td>0</td>\n      <td>0</td>\n      <td>0</td>\n      <td>...</td>\n      <td>1</td>\n      <td>0</td>\n      <td>0</td>\n      <td>0</td>\n      <td>0</td>\n      <td>0</td>\n      <td>0</td>\n      <td>0</td>\n      <td>0</td>\n      <td>0</td>\n    </tr>\n  </tbody>\n</table>\n<p>5 rows × 181 columns</p>\n</div>"
     },
     "metadata": {},
     "execution_count": 76
    }
   ],
   "source": [
    "# Split types of problems\n",
    "data = data.drop(labels='problem', axis=1).join(data.problem.str.get_dummies(','))\n",
    "data.head(5)"
   ]
  },
  {
   "cell_type": "markdown",
   "metadata": {},
   "source": [
    "Step 3: Data Analysis"
   ]
  },
  {
   "cell_type": "code",
   "execution_count": 77,
   "metadata": {
    "tags": []
   },
   "outputs": [
    {
     "output_type": "execute_result",
     "data": {
      "text/plain": "      brand  count\n38     吉利汽车     96\n8     一汽马自达     95\n0     一汽-大众     52\n9      上汽大众     36\n1   一汽-大众奥迪     19\n30     北京现代     18\n50     广汽丰田     17\n17     东风日产     16\n12     上汽集团     15\n44     奇瑞汽车     14",
      "text/html": "<div>\n<style scoped>\n    .dataframe tbody tr th:only-of-type {\n        vertical-align: middle;\n    }\n\n    .dataframe tbody tr th {\n        vertical-align: top;\n    }\n\n    .dataframe thead th {\n        text-align: right;\n    }\n</style>\n<table border=\"1\" class=\"dataframe\">\n  <thead>\n    <tr style=\"text-align: right;\">\n      <th></th>\n      <th>brand</th>\n      <th>count</th>\n    </tr>\n  </thead>\n  <tbody>\n    <tr>\n      <th>38</th>\n      <td>吉利汽车</td>\n      <td>96</td>\n    </tr>\n    <tr>\n      <th>8</th>\n      <td>一汽马自达</td>\n      <td>95</td>\n    </tr>\n    <tr>\n      <th>0</th>\n      <td>一汽-大众</td>\n      <td>52</td>\n    </tr>\n    <tr>\n      <th>9</th>\n      <td>上汽大众</td>\n      <td>36</td>\n    </tr>\n    <tr>\n      <th>1</th>\n      <td>一汽-大众奥迪</td>\n      <td>19</td>\n    </tr>\n    <tr>\n      <th>30</th>\n      <td>北京现代</td>\n      <td>18</td>\n    </tr>\n    <tr>\n      <th>50</th>\n      <td>广汽丰田</td>\n      <td>17</td>\n    </tr>\n    <tr>\n      <th>17</th>\n      <td>东风日产</td>\n      <td>16</td>\n    </tr>\n    <tr>\n      <th>12</th>\n      <td>上汽集团</td>\n      <td>15</td>\n    </tr>\n    <tr>\n      <th>44</th>\n      <td>奇瑞汽车</td>\n      <td>14</td>\n    </tr>\n  </tbody>\n</table>\n</div>"
     },
     "metadata": {},
     "execution_count": 77
    }
   ],
   "source": [
    "# Complains group by brand\n",
    "df_brand = data.groupby(['brand'])['id'].agg(['count'])\n",
    "df_brand.reset_index(inplace=True)\n",
    "\n",
    "# Sort by the number of complains in desending order\n",
    "df_brand = df_brand.sort_values('count', ascending=False)\n",
    "\n",
    "# Print the top 10 brand with most complains\n",
    "df_brand.head(10)"
   ]
  },
  {
   "cell_type": "code",
   "execution_count": 78,
   "metadata": {},
   "outputs": [
    {
     "output_type": "execute_result",
     "data": {
      "text/plain": "    car_model  brand  count\n190       阿特兹  一汽马自达     75\n107        星越   吉利汽车     43\n182        速腾  一汽-大众     22\n206   马自达CX-4  一汽马自达     20\n37         博越   吉利汽车     13\n30        凯美瑞   广汽丰田     12\n113        朗逸   上汽大众     12\n100        探岳  一汽-大众     11\n159        缤越   吉利汽车     11\n171        迈腾  一汽-大众     10",
      "text/html": "<div>\n<style scoped>\n    .dataframe tbody tr th:only-of-type {\n        vertical-align: middle;\n    }\n\n    .dataframe tbody tr th {\n        vertical-align: top;\n    }\n\n    .dataframe thead th {\n        text-align: right;\n    }\n</style>\n<table border=\"1\" class=\"dataframe\">\n  <thead>\n    <tr style=\"text-align: right;\">\n      <th></th>\n      <th>car_model</th>\n      <th>brand</th>\n      <th>count</th>\n    </tr>\n  </thead>\n  <tbody>\n    <tr>\n      <th>190</th>\n      <td>阿特兹</td>\n      <td>一汽马自达</td>\n      <td>75</td>\n    </tr>\n    <tr>\n      <th>107</th>\n      <td>星越</td>\n      <td>吉利汽车</td>\n      <td>43</td>\n    </tr>\n    <tr>\n      <th>182</th>\n      <td>速腾</td>\n      <td>一汽-大众</td>\n      <td>22</td>\n    </tr>\n    <tr>\n      <th>206</th>\n      <td>马自达CX-4</td>\n      <td>一汽马自达</td>\n      <td>20</td>\n    </tr>\n    <tr>\n      <th>37</th>\n      <td>博越</td>\n      <td>吉利汽车</td>\n      <td>13</td>\n    </tr>\n    <tr>\n      <th>30</th>\n      <td>凯美瑞</td>\n      <td>广汽丰田</td>\n      <td>12</td>\n    </tr>\n    <tr>\n      <th>113</th>\n      <td>朗逸</td>\n      <td>上汽大众</td>\n      <td>12</td>\n    </tr>\n    <tr>\n      <th>100</th>\n      <td>探岳</td>\n      <td>一汽-大众</td>\n      <td>11</td>\n    </tr>\n    <tr>\n      <th>159</th>\n      <td>缤越</td>\n      <td>吉利汽车</td>\n      <td>11</td>\n    </tr>\n    <tr>\n      <th>171</th>\n      <td>迈腾</td>\n      <td>一汽-大众</td>\n      <td>10</td>\n    </tr>\n  </tbody>\n</table>\n</div>"
     },
     "metadata": {},
     "execution_count": 78
    }
   ],
   "source": [
    "# Complains grouped by car model\n",
    "df_model = data.groupby(['car_model', 'brand'])['id'].agg(['count'])\n",
    "df_model.reset_index(inplace=True)\n",
    "\n",
    "# Sort by the number of complains in desending order\n",
    "df_model = df_model.sort_values('count', ascending=False)\n",
    "\n",
    "# Print the top 10 car models with most complains\n",
    "df_model.head(10)"
   ]
  },
  {
   "cell_type": "code",
   "execution_count": 85,
   "metadata": {},
   "outputs": [
    {
     "output_type": "execute_result",
     "data": {
      "text/plain": "              mean\nbrand             \n一汽马自达    47.500000\n吉利汽车      9.600000\n一汽-大众     8.666667\n一汽大众      6.000000\n广汽丰田      5.666667\n上汽大众      3.600000\n东风日产      3.200000\n一汽-大众奥迪   3.166667\n广汽本田      3.000000\n东风雷诺      3.000000",
      "text/html": "<div>\n<style scoped>\n    .dataframe tbody tr th:only-of-type {\n        vertical-align: middle;\n    }\n\n    .dataframe tbody tr th {\n        vertical-align: top;\n    }\n\n    .dataframe thead th {\n        text-align: right;\n    }\n</style>\n<table border=\"1\" class=\"dataframe\">\n  <thead>\n    <tr style=\"text-align: right;\">\n      <th></th>\n      <th>mean</th>\n    </tr>\n    <tr>\n      <th>brand</th>\n      <th></th>\n    </tr>\n  </thead>\n  <tbody>\n    <tr>\n      <th>一汽马自达</th>\n      <td>47.500000</td>\n    </tr>\n    <tr>\n      <th>吉利汽车</th>\n      <td>9.600000</td>\n    </tr>\n    <tr>\n      <th>一汽-大众</th>\n      <td>8.666667</td>\n    </tr>\n    <tr>\n      <th>一汽大众</th>\n      <td>6.000000</td>\n    </tr>\n    <tr>\n      <th>广汽丰田</th>\n      <td>5.666667</td>\n    </tr>\n    <tr>\n      <th>上汽大众</th>\n      <td>3.600000</td>\n    </tr>\n    <tr>\n      <th>东风日产</th>\n      <td>3.200000</td>\n    </tr>\n    <tr>\n      <th>一汽-大众奥迪</th>\n      <td>3.166667</td>\n    </tr>\n    <tr>\n      <th>广汽本田</th>\n      <td>3.000000</td>\n    </tr>\n    <tr>\n      <th>东风雷诺</th>\n      <td>3.000000</td>\n    </tr>\n  </tbody>\n</table>\n</div>"
     },
     "metadata": {},
     "execution_count": 85
    }
   ],
   "source": [
    "import numpy as np\n",
    "\n",
    "# Calculate the mean of complains of car models for each brand\n",
    "df_mean = df_model.groupby(['brand'])['count'].agg([np.mean])\n",
    "#df_mean.reset_index(inplace=True)\n",
    "\n",
    "# Sort by the number of complains in desending order\n",
    "df_mean = df_mean.sort_values('mean', ascending=False)\n",
    "\n",
    "# Print the top 10 car models with most complains\n",
    "df_mean.head(10)"
   ]
  },
  {
   "cell_type": "code",
   "execution_count": null,
   "metadata": {},
   "outputs": [],
   "source": []
  }
 ],
 "metadata": {
  "language_info": {
   "codemirror_mode": {
    "name": "ipython",
    "version": 3
   },
   "file_extension": ".py",
   "mimetype": "text/x-python",
   "name": "python",
   "nbconvert_exporter": "python",
   "pygments_lexer": "ipython3",
   "version": "3.6.7-final"
  },
  "orig_nbformat": 2,
  "kernelspec": {
   "name": "python3",
   "display_name": "Python 3"
  }
 },
 "nbformat": 4,
 "nbformat_minor": 2
}